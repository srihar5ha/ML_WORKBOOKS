{
 "cells": [
  {
   "cell_type": "code",
   "execution_count": 102,
   "id": "e6053915-4273-4c3e-b79a-9e2f4091000e",
   "metadata": {},
   "outputs": [],
   "source": [
    "import pandas as pd\n"
   ]
  },
  {
   "cell_type": "code",
   "execution_count": 103,
   "id": "6e9581f3-ebb4-46fe-836d-11f06ca1d805",
   "metadata": {},
   "outputs": [],
   "source": [
    "df=pd.read_csv('medical_data.csv')"
   ]
  },
  {
   "cell_type": "code",
   "execution_count": 104,
   "id": "9480fa30-1619-4300-91dd-473e8821dca9",
   "metadata": {},
   "outputs": [
    {
     "name": "stdout",
     "output_type": "stream",
     "text": [
      "<class 'pandas.core.frame.DataFrame'>\n",
      "RangeIndex: 580 entries, 0 to 579\n",
      "Data columns (total 18 columns):\n",
      " #   Column          Non-Null Count  Dtype  \n",
      "---  ------          --------------  -----  \n",
      " 0   death           580 non-null    int64  \n",
      " 1   amiodarone      580 non-null    int64  \n",
      " 2   loop_diuretics  580 non-null    int64  \n",
      " 3   ivabradine      580 non-null    int64  \n",
      " 4   ARB             580 non-null    int64  \n",
      " 5   digoxin         580 non-null    int64  \n",
      " 6   MRA             580 non-null    int64  \n",
      " 7   heart_failure   580 non-null    int64  \n",
      " 8   AOS             580 non-null    int64  \n",
      " 9   SBP             580 non-null    float64\n",
      " 10  DBP             580 non-null    float64\n",
      " 11  PLT             580 non-null    float64\n",
      " 12  LDL             580 non-null    float64\n",
      " 13  HDL             580 non-null    float64\n",
      " 14  LVEF            580 non-null    float64\n",
      " 15  Na+             580 non-null    float64\n",
      " 16  K+              580 non-null    float64\n",
      " 17  MPV             580 non-null    float64\n",
      "dtypes: float64(9), int64(9)\n",
      "memory usage: 81.7 KB\n"
     ]
    }
   ],
   "source": [
    "df.info()"
   ]
  },
  {
   "cell_type": "code",
   "execution_count": 105,
   "id": "b69235b5-de87-4892-89f8-e02f2e2293bc",
   "metadata": {},
   "outputs": [
    {
     "data": {
      "text/plain": [
       "Index(['death', 'amiodarone', 'loop_diuretics', 'ivabradine', 'ARB', 'digoxin',\n",
       "       'MRA', 'heart_failure', 'AOS', 'SBP', 'DBP', 'PLT', 'LDL', 'HDL',\n",
       "       'LVEF', 'Na+', 'K+', 'MPV'],\n",
       "      dtype='object')"
      ]
     },
     "execution_count": 105,
     "metadata": {},
     "output_type": "execute_result"
    }
   ],
   "source": [
    "df.columns"
   ]
  },
  {
   "cell_type": "code",
   "execution_count": 106,
   "id": "506f3aa0-7fab-4c07-a50c-ed426bc9c79b",
   "metadata": {},
   "outputs": [
    {
     "data": {
      "text/html": [
       "<div>\n",
       "<style scoped>\n",
       "    .dataframe tbody tr th:only-of-type {\n",
       "        vertical-align: middle;\n",
       "    }\n",
       "\n",
       "    .dataframe tbody tr th {\n",
       "        vertical-align: top;\n",
       "    }\n",
       "\n",
       "    .dataframe thead th {\n",
       "        text-align: right;\n",
       "    }\n",
       "</style>\n",
       "<table border=\"1\" class=\"dataframe\">\n",
       "  <thead>\n",
       "    <tr style=\"text-align: right;\">\n",
       "      <th></th>\n",
       "      <th>death</th>\n",
       "      <th>amiodarone</th>\n",
       "      <th>loop_diuretics</th>\n",
       "      <th>ivabradine</th>\n",
       "      <th>ARB</th>\n",
       "      <th>digoxin</th>\n",
       "      <th>MRA</th>\n",
       "      <th>heart_failure</th>\n",
       "      <th>AOS</th>\n",
       "      <th>SBP</th>\n",
       "      <th>DBP</th>\n",
       "      <th>PLT</th>\n",
       "      <th>LDL</th>\n",
       "      <th>HDL</th>\n",
       "      <th>LVEF</th>\n",
       "      <th>Na+</th>\n",
       "      <th>K+</th>\n",
       "      <th>MPV</th>\n",
       "    </tr>\n",
       "  </thead>\n",
       "  <tbody>\n",
       "    <tr>\n",
       "      <th>0</th>\n",
       "      <td>0</td>\n",
       "      <td>0</td>\n",
       "      <td>0</td>\n",
       "      <td>1</td>\n",
       "      <td>1</td>\n",
       "      <td>1</td>\n",
       "      <td>0</td>\n",
       "      <td>2</td>\n",
       "      <td>0</td>\n",
       "      <td>62.0</td>\n",
       "      <td>126.0</td>\n",
       "      <td>196.0</td>\n",
       "      <td>50.0</td>\n",
       "      <td>42.0</td>\n",
       "      <td>28.0</td>\n",
       "      <td>136.0</td>\n",
       "      <td>4.30</td>\n",
       "      <td>9.9</td>\n",
       "    </tr>\n",
       "    <tr>\n",
       "      <th>1</th>\n",
       "      <td>0</td>\n",
       "      <td>1</td>\n",
       "      <td>1</td>\n",
       "      <td>0</td>\n",
       "      <td>1</td>\n",
       "      <td>0</td>\n",
       "      <td>1</td>\n",
       "      <td>0</td>\n",
       "      <td>1</td>\n",
       "      <td>72.0</td>\n",
       "      <td>108.0</td>\n",
       "      <td>245.0</td>\n",
       "      <td>59.0</td>\n",
       "      <td>85.0</td>\n",
       "      <td>25.0</td>\n",
       "      <td>147.0</td>\n",
       "      <td>4.58</td>\n",
       "      <td>13.3</td>\n",
       "    </tr>\n",
       "    <tr>\n",
       "      <th>2</th>\n",
       "      <td>0</td>\n",
       "      <td>0</td>\n",
       "      <td>0</td>\n",
       "      <td>0</td>\n",
       "      <td>0</td>\n",
       "      <td>1</td>\n",
       "      <td>1</td>\n",
       "      <td>2</td>\n",
       "      <td>2</td>\n",
       "      <td>73.0</td>\n",
       "      <td>109.0</td>\n",
       "      <td>219.0</td>\n",
       "      <td>79.0</td>\n",
       "      <td>61.0</td>\n",
       "      <td>14.0</td>\n",
       "      <td>133.0</td>\n",
       "      <td>4.05</td>\n",
       "      <td>1.5</td>\n",
       "    </tr>\n",
       "    <tr>\n",
       "      <th>3</th>\n",
       "      <td>0</td>\n",
       "      <td>0</td>\n",
       "      <td>0</td>\n",
       "      <td>1</td>\n",
       "      <td>1</td>\n",
       "      <td>1</td>\n",
       "      <td>0</td>\n",
       "      <td>2</td>\n",
       "      <td>1</td>\n",
       "      <td>55.0</td>\n",
       "      <td>114.0</td>\n",
       "      <td>294.0</td>\n",
       "      <td>97.0</td>\n",
       "      <td>55.0</td>\n",
       "      <td>8.0</td>\n",
       "      <td>150.0</td>\n",
       "      <td>5.34</td>\n",
       "      <td>7.8</td>\n",
       "    </tr>\n",
       "    <tr>\n",
       "      <th>4</th>\n",
       "      <td>0</td>\n",
       "      <td>0</td>\n",
       "      <td>1</td>\n",
       "      <td>0</td>\n",
       "      <td>1</td>\n",
       "      <td>1</td>\n",
       "      <td>1</td>\n",
       "      <td>2</td>\n",
       "      <td>2</td>\n",
       "      <td>70.0</td>\n",
       "      <td>95.0</td>\n",
       "      <td>293.0</td>\n",
       "      <td>96.0</td>\n",
       "      <td>30.0</td>\n",
       "      <td>28.0</td>\n",
       "      <td>151.0</td>\n",
       "      <td>5.25</td>\n",
       "      <td>6.8</td>\n",
       "    </tr>\n",
       "  </tbody>\n",
       "</table>\n",
       "</div>"
      ],
      "text/plain": [
       "   death  amiodarone  loop_diuretics  ivabradine  ARB  digoxin  MRA  \\\n",
       "0      0           0               0           1    1        1    0   \n",
       "1      0           1               1           0    1        0    1   \n",
       "2      0           0               0           0    0        1    1   \n",
       "3      0           0               0           1    1        1    0   \n",
       "4      0           0               1           0    1        1    1   \n",
       "\n",
       "   heart_failure  AOS   SBP    DBP    PLT   LDL   HDL  LVEF    Na+    K+   MPV  \n",
       "0              2    0  62.0  126.0  196.0  50.0  42.0  28.0  136.0  4.30   9.9  \n",
       "1              0    1  72.0  108.0  245.0  59.0  85.0  25.0  147.0  4.58  13.3  \n",
       "2              2    2  73.0  109.0  219.0  79.0  61.0  14.0  133.0  4.05   1.5  \n",
       "3              2    1  55.0  114.0  294.0  97.0  55.0   8.0  150.0  5.34   7.8  \n",
       "4              2    2  70.0   95.0  293.0  96.0  30.0  28.0  151.0  5.25   6.8  "
      ]
     },
     "execution_count": 106,
     "metadata": {},
     "output_type": "execute_result"
    }
   ],
   "source": [
    "df.head()"
   ]
  },
  {
   "cell_type": "code",
   "execution_count": 107,
   "id": "1757b5d6-c2b4-408a-b781-877de1e3b422",
   "metadata": {},
   "outputs": [],
   "source": [
    "#cat_vars = ['amiodarone', 'loop_diuretics', 'ivabradine', 'ARB', 'digoxin', 'MRA', 'heart_failure', 'AOS']\n",
    "#cat_vars = [col for col in df.columns if df[col].dtype == 'object']\n",
    "#numerical_vars = [col for col in df.columns if df[col].dtype != 'object']"
   ]
  },
  {
   "cell_type": "code",
   "execution_count": 108,
   "id": "48792376-37d6-4cb6-8202-774f7433b357",
   "metadata": {},
   "outputs": [],
   "source": [
    "#num_vars=['SBP', 'DBP', 'PLT', 'LDL', 'HDL','LVEF', 'Na+', 'K+', 'MPV']"
   ]
  },
  {
   "cell_type": "code",
   "execution_count": 109,
   "id": "c069017f-2c6d-4c24-a4f9-0dafadc16d3e",
   "metadata": {},
   "outputs": [],
   "source": [
    "#chi_tuple_list = [(var,pval ) for var,pval in chi_result]\n"
   ]
  },
  {
   "cell_type": "code",
   "execution_count": 110,
   "id": "04201232-3317-484e-b0ba-58b60e1673b9",
   "metadata": {},
   "outputs": [
    {
     "name": "stdout",
     "output_type": "stream",
     "text": [
      "8 9\n",
      "num ['SBP', 'DBP', 'PLT', 'LDL', 'HDL', 'LVEF', 'Na+', 'K+', 'MPV']\n",
      "cat ['amiodarone', 'loop_diuretics', 'ivabradine', 'ARB', 'digoxin', 'MRA', 'heart_failure', 'AOS']\n"
     ]
    }
   ],
   "source": [
    "cat_vars=[]\n",
    "numerical_vars=[]\n",
    "for col in df.columns:\n",
    "    if df[col].dtype == 'int64':\n",
    "        # categorical variable encoded as 0 or 1\n",
    "        if(col!=\"death\"):\n",
    "            cat_vars.append(col)\n",
    "    else:\n",
    "        # numerical variable\n",
    "        numerical_vars.append(col)\n",
    "print(len(cat_vars),len(numerical_vars))\n",
    "print(\"num\",numerical_vars)\n",
    "print(\"cat\",cat_vars)"
   ]
  },
  {
   "cell_type": "code",
   "execution_count": 111,
   "id": "0aea7f85-64a3-4dc9-94b3-f95cc37872a8",
   "metadata": {},
   "outputs": [
    {
     "name": "stdout",
     "output_type": "stream",
     "text": [
      "[\"('amiodarone', 3.37882118161796e-15)\", \"('loop_diuretics', 1.154302903307273e-22)\", \"('ivabradine', 0.014373704380245855)\", \"('ARB', 0.2337835245845317)\", \"('digoxin', 0.5185149615843472)\", \"('MRA', 0.28840961222458317)\", \"('heart_failure', 7.608379512530399e-12)\", \"('AOS', 0.9740161217622956)\"]\n"
     ]
    }
   ],
   "source": [
    "from scipy.stats import chi2_contingency\n",
    "chi_result=[]\n",
    "for var in cat_vars:\n",
    "    contingency_table = pd.crosstab(df['death'], df[var])\n",
    "    chi2, p_value, dof, expected = chi2_contingency(contingency_table)\n",
    "    chi_result.append((f\"{var,p_value}\"))\n",
    "print(chi_result)"
   ]
  },
  {
   "cell_type": "code",
   "execution_count": 112,
   "id": "0e9eb4b4-6fb6-480a-a1b9-781901e3824f",
   "metadata": {},
   "outputs": [
    {
     "name": "stdout",
     "output_type": "stream",
     "text": [
      "cate vars are:  ['amiodarone', 'loop_diuretics', 'ivabradine', 'ARB', 'digoxin', 'MRA', 'heart_failure', 'AOS']\n",
      "num vars are  ['SBP', 'DBP', 'PLT', 'LDL', 'HDL', 'LVEF', 'Na+', 'K+', 'MPV']\n",
      "[('amiodarone', 0.0), ('loop_diuretics', 0.0), ('ivabradine', 0.0144), ('ARB', 0.2338), ('digoxin', 0.5185), ('MRA', 0.2884), ('heart_failure', 0.0), ('AOS', 0.974)]\n",
      "=====================\n",
      "[('SBP', (0.2579, 0.5882)), ('DBP', (0.5279, 0.3715)), ('PLT', (0.2361, 0.6935)), ('LDL', (0.9368, 0.95)), ('HDL', (0.4388, 0.0006)), ('LVEF', (0.0, 0.0)), ('Na+', (0.0, 0.0071)), ('K+', (0.0, 0.1771)), ('MPV', (0.0, 0.0003))]\n",
      "========================================\n",
      "[('HDL', 0.0), ('LVEF', 0.0), ('Na+', 0.4286), ('K+', 0.8569), ('MPV', 0.8662)]\n",
      "========================================\n",
      "[('SBP', 0.0), ('DBP', 0.0), ('PLT', 0.4739), ('LDL', 0.8392)]\n",
      "--------------------\n"
     ]
    }
   ],
   "source": [
    "import pandas as pd\n",
    "from scipy.stats import shapiro, ttest_ind, mannwhitneyu\n",
    "\n",
    "# Split data by death variable\n",
    "death_data = df[df['death'] == 1]\n",
    "alive_data = df[df['death'] == 0]\n",
    "\n",
    "#cat_vars = ['amiodarone', 'loop_diuretics', 'ivabradine', 'ARB', 'digoxin', 'MRA', 'heart_failure', 'AOS']\n",
    "chi_result=[]\n",
    "for var in cat_vars:\n",
    "    contingency_table = pd.crosstab(df['death'], df[var])\n",
    "    chi2, p_value, dof, expected = chi2_contingency(contingency_table)\n",
    "    #chi_tuple=[(var,round(p_value,4))]\n",
    "    chi_result.append((var,round(p_value,4)))\n",
    "\n",
    "\n",
    "# Create an empty dataframe to store the test results\n",
    "test_results = pd.DataFrame(columns=['Variable', 'Test', 'Statistic', 'p-value'])\n",
    "shapiro_test_results=[]\n",
    "mann_test_results=[]\n",
    "ttest_results=[]\n",
    "# Loop through each numerical variable\n",
    "#numerical_vars = ['SBP', 'DBP', 'PLT', 'LDL', 'HDL', 'LVEF', 'Na+', 'K+', 'MPV']\n",
    "for var in numerical_vars:\n",
    "    # Check normality of each sample\n",
    "    death_stat, death_pval = shapiro(death_data[var])\n",
    "    alive_stat, alive_pval = shapiro(alive_data[var])\n",
    "    shapiro_test_results.append((var, (round(alive_pval,4), round(death_pval,4))))\n",
    "    \n",
    "    # Perform t-test or Mann-Whitney U test based on normality test results\n",
    "    if death_pval > 0.05 and alive_pval > 0.05:\n",
    "        stat, pval = ttest_ind(death_data[var], alive_data[var], equal_var=False)\n",
    "        #test_type = 'Unpaired t-test'\n",
    "        ttest_results.append((var,round(pval,4)))\n",
    "    else:\n",
    "        stat, pval = mannwhitneyu(death_data[var], alive_data[var], alternative='two-sided')\n",
    "        #test_type = 'Mann-Whitney U test'\n",
    "        mann_test_results.append((var,round(pval,4)))\n",
    "\n",
    "    # Record the test results\n",
    "    #test_results = test_results.append({'Variable': var, 'Test': test_type, 'Statistic': stat, 'p-value': pval},\n",
    "                                       #ignore_index=True)\n",
    "\n",
    "#print(test_results)\n",
    "print(\"cate vars are: \",cat_vars)\n",
    "print(\"num vars are \",numerical_vars)\n",
    "print(chi_result)\n",
    "print(\"=====================\")\n",
    "print(shapiro_test_results)\n",
    "print(\"========================================\")\n",
    "print(mann_test_results)\n",
    "\n",
    "print(\"========================================\")\n",
    "print(ttest_results)\n",
    "print(\"--------------------\")\n",
    "\n",
    "output_dict= {\n",
    "        'mann_whitney': mann_test_results,\n",
    "        'ttest': ttest_results,\n",
    "        'chi_square': chi_result,\n",
    "        'shapiro_wilk': shapiro_test_results\n",
    "    }\n"
   ]
  },
  {
   "cell_type": "code",
   "execution_count": 113,
   "id": "5ad0c851-3bda-45f3-8455-56dc7559ccc3",
   "metadata": {},
   "outputs": [
    {
     "data": {
      "text/plain": [
       "8"
      ]
     },
     "execution_count": 113,
     "metadata": {},
     "output_type": "execute_result"
    }
   ],
   "source": [
    "len(cat_vars)"
   ]
  },
  {
   "cell_type": "code",
   "execution_count": 114,
   "id": "d71e5942-99f9-4903-af41-1b1e2a3341af",
   "metadata": {},
   "outputs": [
    {
     "data": {
      "text/plain": [
       "9"
      ]
     },
     "execution_count": 114,
     "metadata": {},
     "output_type": "execute_result"
    }
   ],
   "source": [
    "len(numerical_vars)"
   ]
  },
  {
   "cell_type": "code",
   "execution_count": 115,
   "id": "582a9c4e-1751-4bab-8294-4511de34b802",
   "metadata": {},
   "outputs": [
    {
     "data": {
      "text/plain": [
       "Index(['death', 'amiodarone', 'loop_diuretics', 'ivabradine', 'ARB', 'digoxin',\n",
       "       'MRA', 'heart_failure', 'AOS', 'SBP', 'DBP', 'PLT', 'LDL', 'HDL',\n",
       "       'LVEF', 'Na+', 'K+', 'MPV'],\n",
       "      dtype='object')"
      ]
     },
     "execution_count": 115,
     "metadata": {},
     "output_type": "execute_result"
    }
   ],
   "source": [
    "df.columns"
   ]
  },
  {
   "cell_type": "code",
   "execution_count": 116,
   "id": "9ccf34f9-68f6-4961-b0c8-62f440fc6955",
   "metadata": {},
   "outputs": [
    {
     "ename": "NameError",
     "evalue": "name 'dtype' is not defined",
     "output_type": "error",
     "traceback": [
      "\u001b[0;31m---------------------------------------------------------------------------\u001b[0m",
      "\u001b[0;31mNameError\u001b[0m                                 Traceback (most recent call last)",
      "Cell \u001b[0;32mIn [116], line 1\u001b[0m\n\u001b[0;32m----> 1\u001b[0m \u001b[43mdtype\u001b[49m\n",
      "\u001b[0;31mNameError\u001b[0m: name 'dtype' is not defined"
     ]
    }
   ],
   "source": [
    "dtype"
   ]
  },
  {
   "cell_type": "code",
   "execution_count": null,
   "id": "2567d791-a7bf-471b-814d-d5f751b01f3a",
   "metadata": {},
   "outputs": [],
   "source": []
  },
  {
   "cell_type": "code",
   "execution_count": null,
   "id": "97054b43-501c-4e85-8c5c-f891bbeb6329",
   "metadata": {},
   "outputs": [],
   "source": []
  },
  {
   "cell_type": "code",
   "execution_count": null,
   "id": "490faaaf-b4ac-45aa-821f-5b26b7ba37d7",
   "metadata": {},
   "outputs": [],
   "source": []
  },
  {
   "cell_type": "code",
   "execution_count": null,
   "id": "a1e37c9c-de9a-4209-a38c-37faea9d1e33",
   "metadata": {},
   "outputs": [],
   "source": []
  },
  {
   "cell_type": "code",
   "execution_count": null,
   "id": "42073565-2795-4ba9-9b9d-063fdd4632f3",
   "metadata": {},
   "outputs": [],
   "source": []
  },
  {
   "cell_type": "code",
   "execution_count": null,
   "id": "110e715a-d60c-40e0-b9fa-3925e50098c0",
   "metadata": {},
   "outputs": [],
   "source": []
  },
  {
   "cell_type": "code",
   "execution_count": null,
   "id": "c95c9a07-6743-4940-b95f-429df558532b",
   "metadata": {},
   "outputs": [],
   "source": []
  },
  {
   "cell_type": "code",
   "execution_count": null,
   "id": "e602a1c1-dc6b-4eee-b300-462c3b0a6de4",
   "metadata": {},
   "outputs": [],
   "source": []
  },
  {
   "cell_type": "code",
   "execution_count": null,
   "id": "5bf7547f-0a48-438f-991f-4675dd63157c",
   "metadata": {},
   "outputs": [],
   "source": []
  },
  {
   "cell_type": "code",
   "execution_count": null,
   "id": "30969288-9a37-455f-8cf2-193265c52a3d",
   "metadata": {},
   "outputs": [],
   "source": []
  }
 ],
 "metadata": {
  "kernelspec": {
   "display_name": "Python 3 (ipykernel)",
   "language": "python",
   "name": "python3"
  },
  "language_info": {
   "codemirror_mode": {
    "name": "ipython",
    "version": 3
   },
   "file_extension": ".py",
   "mimetype": "text/x-python",
   "name": "python",
   "nbconvert_exporter": "python",
   "pygments_lexer": "ipython3",
   "version": "3.10.6"
  }
 },
 "nbformat": 4,
 "nbformat_minor": 5
}
