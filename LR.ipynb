{
 "cells": [
  {
   "cell_type": "code",
   "execution_count": 1,
   "id": "30cbcae9-1ae2-489d-8575-65f79a3e61ae",
   "metadata": {},
   "outputs": [],
   "source": [
    "#LINEAR REGRESSION USING   CUSTOM FUNCTION."
   ]
  },
  {
   "cell_type": "code",
   "execution_count": 13,
   "id": "22fa449d-8010-48c4-8566-da1aba06ed36",
   "metadata": {},
   "outputs": [],
   "source": [
    "import pandas as pd\n",
    "import numpy as np"
   ]
  },
  {
   "cell_type": "code",
   "execution_count": 2,
   "id": "da6824e7-767c-4f4e-bd74-5a01db5dfedc",
   "metadata": {},
   "outputs": [],
   "source": [
    "df=pd.read_csv('placement.csv')\n",
    "x=df.iloc[:,0].values\n",
    "y=df.iloc[:,1].values"
   ]
  },
  {
   "cell_type": "code",
   "execution_count": 3,
   "id": "6271e777-d7a3-42fd-87d9-4d0a0448b0ae",
   "metadata": {},
   "outputs": [],
   "source": [
    "from sklearn.model_selection import train_test_split\n",
    "x_train,x_test,y_train,y_test=train_test_split(x,y,test_size=0.2,random_state=2)"
   ]
  },
  {
   "cell_type": "code",
   "execution_count": 4,
   "id": "daa8000a-a3f6-4b2b-9d8a-846b06eecd31",
   "metadata": {},
   "outputs": [
    {
     "data": {
      "text/plain": [
       "array([8.58, 7.15, 5.88, 6.22, 4.57, 4.79, 5.32, 6.86, 8.35, 6.87, 8.94,\n",
       "       7.9 , 6.93, 5.91, 7.32, 7.82, 5.09, 7.42, 6.94, 7.73, 6.19, 7.28,\n",
       "       6.73, 7.2 , 8.21, 6.75, 7.87, 7.6 , 8.63, 5.12, 8.15, 7.36, 8.31,\n",
       "       6.6 , 6.59, 7.47, 7.93, 6.29, 6.37, 6.47])"
      ]
     },
     "execution_count": 4,
     "metadata": {},
     "output_type": "execute_result"
    }
   ],
   "source": [
    "x_test"
   ]
  },
  {
   "cell_type": "code",
   "execution_count": 5,
   "id": "6887bbae-1801-4ba4-b078-58ba02ca6219",
   "metadata": {},
   "outputs": [],
   "source": [
    "class myLr():\n",
    "    \n",
    "    def __init__(self):\n",
    "        self.m=None\n",
    "        self.b=None\n",
    "        \n",
    "    def fit(self,x_train,y_train):\n",
    "        numer=0\n",
    "        denom=0\n",
    "        for i in range(x_train.shape[0]):\n",
    "            numer=numer+ ((x_train[i]- x_train.mean())*(y_train[i]-y_train.mean()))\n",
    "            denom=denom+ ((x_train[i]- x_train.mean())*(x_train[i] - x_train.mean()))\n",
    "        self.m=numer/denom\n",
    "        self.b=y_train.mean()- self.m*x_train.mean()\n",
    "        \n",
    "    def predict(self,x_test):\n",
    "        print(\"test \",x_test)\n",
    "        return self.m * x_test + self.b\n",
    "    \n",
    "        "
   ]
  },
  {
   "cell_type": "code",
   "execution_count": 6,
   "id": "b6a77577-062b-4223-b78b-91ba4de96b90",
   "metadata": {},
   "outputs": [],
   "source": [
    "lr=myLr()"
   ]
  },
  {
   "cell_type": "code",
   "execution_count": 7,
   "id": "f0c4a53c-aeb4-47e9-b2f2-e7ad4e5777e5",
   "metadata": {},
   "outputs": [],
   "source": [
    "lr.fit(x_train,y_train)"
   ]
  },
  {
   "cell_type": "code",
   "execution_count": 8,
   "id": "b0f0e1f5-fe37-43bc-8d36-4bb31220f7fd",
   "metadata": {},
   "outputs": [
    {
     "name": "stdout",
     "output_type": "stream",
     "text": [
      "test  8.58\n"
     ]
    },
    {
     "data": {
      "text/plain": [
       "3.891116009744203"
      ]
     },
     "execution_count": 8,
     "metadata": {},
     "output_type": "execute_result"
    }
   ],
   "source": [
    "lr.predict(x_test[0])"
   ]
  },
  {
   "cell_type": "raw",
   "id": "636d5945-760e-4081-8e88-e350c65d81c5",
   "metadata": {},
   "source": [
    "########################  metrics for analysis"
   ]
  },
  {
   "cell_type": "code",
   "execution_count": 9,
   "id": "58d9114c-f6bb-496f-b400-dc0cb52f2eee",
   "metadata": {},
   "outputs": [],
   "source": [
    "from sklearn.metrics import mean_absolute_error,mean_squared_error,r2_score"
   ]
  },
  {
   "cell_type": "code",
   "execution_count": 11,
   "id": "33d6cc94-4f45-4c85-b324-1ee6fcb1769f",
   "metadata": {},
   "outputs": [
    {
     "name": "stdout",
     "output_type": "stream",
     "text": [
      "test  [8.58 7.15 5.88 6.22 4.57 4.79 5.32 6.86 8.35 6.87 8.94 7.9  6.93 5.91\n",
      " 7.32 7.82 5.09 7.42 6.94 7.73 6.19 7.28 6.73 7.2  8.21 6.75 7.87 7.6\n",
      " 8.63 5.12 8.15 7.36 8.31 6.6  6.59 7.47 7.93 6.29 6.37 6.47]\n"
     ]
    }
   ],
   "source": [
    "y_pred=lr.predict(x_test)"
   ]
  },
  {
   "cell_type": "code",
   "execution_count": 12,
   "id": "875ceeb0-8e3f-4cac-8076-dca25e734b64",
   "metadata": {},
   "outputs": [
    {
     "name": "stdout",
     "output_type": "stream",
     "text": [
      "mae  0.2884710931878174\n",
      "mse  0.12129235313495523\n",
      "rmse  0.3482705171773161\n",
      "r2s  0.7807301475103842\n",
      "adjusted r2  0.7793423636338677\n"
     ]
    }
   ],
   "source": [
    "mae=mean_absolute_error(y_test,y_pred)\n",
    "mse=mean_squared_error(y_test,y_pred)\n",
    "r2s=r2_score(y_test,y_pred)\n",
    "rmse=np.sqrt(mse)\n",
    "#adjusted r2 = 1 - ((1-r2)(n-1)/(n-1-k)) n= rows k=independent columns\n",
    "adj_r2s= 1-((1-r2s)* (x_train.shape[0]-1)/(x_train.shape[0]-1-1))\n",
    "\n",
    "print(\"mae \",mae)\n",
    "print(\"mse \",mse)\n",
    "print(\"rmse \",rmse)\n",
    "print(\"r2s \",r2s)\n",
    "print(\"adjusted r2 \",adj_r2s)"
   ]
  },
  {
   "cell_type": "code",
   "execution_count": null,
   "id": "3fd11ce5-afa6-47e6-acac-db278e13bda3",
   "metadata": {},
   "outputs": [],
   "source": []
  }
 ],
 "metadata": {
  "kernelspec": {
   "display_name": "Python 3 (ipykernel)",
   "language": "python",
   "name": "python3"
  },
  "language_info": {
   "codemirror_mode": {
    "name": "ipython",
    "version": 3
   },
   "file_extension": ".py",
   "mimetype": "text/x-python",
   "name": "python",
   "nbconvert_exporter": "python",
   "pygments_lexer": "ipython3",
   "version": "3.10.6"
  }
 },
 "nbformat": 4,
 "nbformat_minor": 5
}
