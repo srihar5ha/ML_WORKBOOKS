{
 "cells": [
  {
   "cell_type": "code",
   "execution_count": 2,
   "id": "1d0efa2e-7562-421e-b3e7-949e46831694",
   "metadata": {},
   "outputs": [
    {
     "name": "stdout",
     "output_type": "stream",
     "text": [
      "Archive:  Bike_Sharing_Dataset.zip\n",
      "  inflating: Readme.txt              \n",
      "  inflating: day.csv                 \n",
      "  inflating: hour.csv                \n"
     ]
    }
   ],
   "source": [
    "#!wget -qq https://cdn.iisc.talentsprint.com/CDS/MiniProjects/Bike_Sharing_Dataset.zip\n",
    "#!unzip Bike_Sharing_Dataset.zip"
   ]
  },
  {
   "cell_type": "code",
   "execution_count": 36,
   "id": "dfe5bcff-d641-4508-a4a5-2b79a86c4896",
   "metadata": {},
   "outputs": [],
   "source": [
    "import pandas as pd\n",
    "import numpy as np\n",
    "import seaborn as sns\n",
    "import matplotlib.pyplot as plt"
   ]
  },
  {
   "cell_type": "code",
   "execution_count": 37,
   "id": "1a874db6-6258-44df-a99b-7f46102a0b42",
   "metadata": {},
   "outputs": [],
   "source": [
    "df_day=pd.read_csv(\"datasets/bike_sharing_data/day.csv\")\n",
    "df_day=df_day.drop([\"instant\",\"casual\",\"registered\"],axis=1)\n"
   ]
  },
  {
   "cell_type": "code",
   "execution_count": 38,
   "id": "4cb117e2-d263-47fb-bebc-0883246ecd2f",
   "metadata": {},
   "outputs": [
    {
     "data": {
      "text/plain": [
       "Index(['dteday', 'season', 'yr', 'mnth', 'holiday', 'weekday', 'workingday',\n",
       "       'weathersit', 'temp', 'atemp', 'hum', 'windspeed', 'total bikes'],\n",
       "      dtype='object')"
      ]
     },
     "execution_count": 38,
     "metadata": {},
     "output_type": "execute_result"
    }
   ],
   "source": [
    "#inplace True makes changes to df permanent.\n",
    "df_day.rename(columns={\"cnt\":\"total bikes\"},inplace=True)\n",
    "df_day.columns"
   ]
  },
  {
   "cell_type": "code",
   "execution_count": 39,
   "id": "61e75a02-f68c-4897-a42f-a6c6210ec46f",
   "metadata": {},
   "outputs": [],
   "source": [
    "df_hour=pd.read_csv(\"datasets/bike_sharing_data/hour.csv\")"
   ]
  },
  {
   "cell_type": "code",
   "execution_count": 40,
   "id": "4892feda-c5eb-4792-b1f4-73fc733b8330",
   "metadata": {},
   "outputs": [
    {
     "data": {
      "text/plain": [
       "Index(['instant', 'dteday', 'season', 'yr', 'mnth', 'hr', 'holiday', 'weekday',\n",
       "       'workingday', 'weathersit', 'temp', 'atemp', 'hum', 'windspeed',\n",
       "       'casual', 'registered', 'cnt'],\n",
       "      dtype='object')"
      ]
     },
     "execution_count": 40,
     "metadata": {},
     "output_type": "execute_result"
    }
   ],
   "source": [
    "df_hour.columns"
   ]
  },
  {
   "cell_type": "code",
   "execution_count": 43,
   "id": "dc8d2a65-1353-43c4-9495-733fc9df8015",
   "metadata": {},
   "outputs": [
    {
     "data": {
      "text/plain": [
       "<bound method DataFrame.count of        instant      dteday  season  yr  mnth  hr  holiday  weekday  \\\n",
       "0            1  2011-01-01       1   0     1   0        0        6   \n",
       "1            2  2011-01-01       1   0     1   1        0        6   \n",
       "2            3  2011-01-01       1   0     1   2        0        6   \n",
       "3            4  2011-01-01       1   0     1   3        0        6   \n",
       "4            5  2011-01-01       1   0     1   4        0        6   \n",
       "...        ...         ...     ...  ..   ...  ..      ...      ...   \n",
       "17374    17375  2012-12-31       1   1    12  19        0        1   \n",
       "17375    17376  2012-12-31       1   1    12  20        0        1   \n",
       "17376    17377  2012-12-31       1   1    12  21        0        1   \n",
       "17377    17378  2012-12-31       1   1    12  22        0        1   \n",
       "17378    17379  2012-12-31       1   1    12  23        0        1   \n",
       "\n",
       "       workingday  weathersit  temp   atemp   hum  windspeed  casual  \\\n",
       "0               0           1  0.24  0.2879  0.81     0.0000       3   \n",
       "1               0           1  0.22  0.2727  0.80     0.0000       8   \n",
       "2               0           1  0.22  0.2727  0.80     0.0000       5   \n",
       "3               0           1  0.24  0.2879  0.75     0.0000       3   \n",
       "4               0           1  0.24  0.2879  0.75     0.0000       0   \n",
       "...           ...         ...   ...     ...   ...        ...     ...   \n",
       "17374           1           2  0.26  0.2576  0.60     0.1642      11   \n",
       "17375           1           2  0.26  0.2576  0.60     0.1642       8   \n",
       "17376           1           1  0.26  0.2576  0.60     0.1642       7   \n",
       "17377           1           1  0.26  0.2727  0.56     0.1343      13   \n",
       "17378           1           1  0.26  0.2727  0.65     0.1343      12   \n",
       "\n",
       "       registered  cnt  \n",
       "0              13   16  \n",
       "1              32   40  \n",
       "2              27   32  \n",
       "3              10   13  \n",
       "4               1    1  \n",
       "...           ...  ...  \n",
       "17374         108  119  \n",
       "17375          81   89  \n",
       "17376          83   90  \n",
       "17377          48   61  \n",
       "17378          37   49  \n",
       "\n",
       "[17379 rows x 17 columns]>"
      ]
     },
     "execution_count": 43,
     "metadata": {},
     "output_type": "execute_result"
    }
   ],
   "source": [
    "df_hour[(df_hour[\"casual\"]+df_hour[\"registered\"])==df_hour[\"cnt\"]].count"
   ]
  },
  {
   "cell_type": "code",
   "execution_count": 46,
   "id": "178b2201-f516-4189-9154-4619f78b5492",
   "metadata": {},
   "outputs": [
    {
     "data": {
      "text/plain": [
       "<bound method DataFrame.count of        instant      dteday  season  yr  mnth  hr  holiday  weekday  \\\n",
       "4            5  2011-01-01       1   0     1   4        0        6   \n",
       "5            6  2011-01-01       1   0     1   5        0        6   \n",
       "29          30  2011-01-02       1   0     1   6        0        0   \n",
       "30          31  2011-01-02       1   0     1   7        0        0   \n",
       "31          32  2011-01-02       1   0     1   8        0        0   \n",
       "...        ...         ...     ...  ..   ...  ..      ...      ...   \n",
       "17338    17339  2012-12-30       1   1    12   7        0        0   \n",
       "17358    17359  2012-12-31       1   1    12   3        0        1   \n",
       "17359    17360  2012-12-31       1   1    12   4        0        1   \n",
       "17360    17361  2012-12-31       1   1    12   5        0        1   \n",
       "17361    17362  2012-12-31       1   1    12   6        0        1   \n",
       "\n",
       "       workingday  weathersit  temp   atemp   hum  windspeed  casual  \\\n",
       "4               0           1  0.24  0.2879  0.75     0.0000       0   \n",
       "5               0           2  0.24  0.2576  0.75     0.0896       0   \n",
       "29              0           3  0.42  0.4242  0.77     0.2985       0   \n",
       "30              0           2  0.40  0.4091  0.76     0.1940       0   \n",
       "31              0           3  0.40  0.4091  0.71     0.2239       0   \n",
       "...           ...         ...   ...     ...   ...        ...     ...   \n",
       "17338           0           1  0.24  0.2121  0.56     0.3582       0   \n",
       "17358           1           1  0.16  0.1818  0.59     0.1045       0   \n",
       "17359           1           1  0.14  0.1667  0.69     0.1045       0   \n",
       "17360           1           1  0.16  0.1515  0.64     0.1940       0   \n",
       "17361           1           1  0.16  0.1667  0.64     0.1642       0   \n",
       "\n",
       "       registered  cnt  \n",
       "4               1    1  \n",
       "5               1    1  \n",
       "29              2    2  \n",
       "30              1    1  \n",
       "31              8    8  \n",
       "...           ...  ...  \n",
       "17338          13   13  \n",
       "17358           1    1  \n",
       "17359           3    3  \n",
       "17360           9    9  \n",
       "17361          40   40  \n",
       "\n",
       "[1581 rows x 17 columns]>"
      ]
     },
     "execution_count": 46,
     "metadata": {},
     "output_type": "execute_result"
    }
   ],
   "source": [
    "df_hour[df_hour[\"casual\"]==0].count"
   ]
  },
  {
   "cell_type": "code",
   "execution_count": 57,
   "id": "3f7ac524-c472-4b81-b5e3-d9e555b3c34b",
   "metadata": {},
   "outputs": [
    {
     "data": {
      "text/plain": [
       "17379"
      ]
     },
     "execution_count": 57,
     "metadata": {},
     "output_type": "execute_result"
    }
   ],
   "source": [
    "(df_hour[\"yr\"]==0).count()"
   ]
  },
  {
   "cell_type": "code",
   "execution_count": null,
   "id": "15a7f0b8-548d-41cd-9779-322dce3a5bfd",
   "metadata": {},
   "outputs": [],
   "source": []
  }
 ],
 "metadata": {
  "kernelspec": {
   "display_name": "Python 3 (ipykernel)",
   "language": "python",
   "name": "python3"
  },
  "language_info": {
   "codemirror_mode": {
    "name": "ipython",
    "version": 3
   },
   "file_extension": ".py",
   "mimetype": "text/x-python",
   "name": "python",
   "nbconvert_exporter": "python",
   "pygments_lexer": "ipython3",
   "version": "3.10.6"
  }
 },
 "nbformat": 4,
 "nbformat_minor": 5
}
