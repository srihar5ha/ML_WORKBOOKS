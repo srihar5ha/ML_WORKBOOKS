{
 "cells": [
  {
   "cell_type": "markdown",
   "metadata": {
    "id": "vFGxXJv8tj5d"
   },
   "source": [
    "\n",
    "\n",
    "### MiniProject 5: Finance Portfolio"
   ]
  },
  {
   "cell_type": "markdown",
   "metadata": {
    "id": "nqqRjnCqz1-e"
   },
   "source": [
    "## Learning Objectives"
   ]
  },
  {
   "cell_type": "markdown",
   "metadata": {
    "id": "2odBo6PtImzj"
   },
   "source": [
    "At the end of the experiment, you will be able to:\n",
    "\n",
    "* build a finance portfolio\n",
    "* optimize and find the maximum return, minimum risk of a portfolio\n",
    "* cluster the asset parameters to group the similar assets\n",
    "* select the optimal portfolio of diversified assets\n"
   ]
  },
  {
   "cell_type": "markdown",
   "metadata": {
    "id": "HyXQmXWENr1i"
   },
   "source": [
    "## Dataset"
   ]
  },
  {
   "cell_type": "markdown",
   "metadata": {
    "id": "B4bMv9WSNuGi"
   },
   "source": [
    "Dataset chosen for this mini project is Dow Jones Industrial Average (DJIA) Index viz., Apple (AAPL), American Express (AXP), Boeing (BA), Caterpillar (CAT), Cisco Systems (CSCO), Chevron (CVX), Walt Disney (DIS), Goldman Sachs (GS), The Home Depot (HD), IBM (IBM), Intel (INTC), Johnson & Johnson (JNJ), JP Morgan Chase (JPM), Coca-Cola (KO), McDonald's (MCD), 3M(MMM), Merck & Co (MRK), Microsoft (MSFT), Nike (NKE), Pfizer (PFE), Procter & Gamble (PG), Travelers (TRV), United Health Group (UNH), United Technologies (UTX), Verizon (V), Verizon (VZ), Walgreens Boots Alliance (WBA), Walmart (WMT), Exxon Mobil (XOM).\n",
    "\n",
    "The data set considered is from April 11, 2014 to April 11, 2019. Fig. 3.4 illustrates a snapshot of the DJIA dataset.\n",
    "\n",
    "![img](https://github.com/PaiViji/PythonFinance-PortfolioOptimization/raw/2bb0ae9f32f44ff66302ea33f53c02e746583a05/Lesson3_HeuristicPortfolioSelection/Lesson3Fig3_4.png)\n",
    "\n",
    " "
   ]
  },
  {
   "cell_type": "markdown",
   "metadata": {
    "id": "t6VIOnrmpihg"
   },
   "source": [
    "## Information\n",
    "\n"
   ]
  },
  {
   "cell_type": "markdown",
   "metadata": {
    "id": "q9RGmSXzqeFg"
   },
   "source": [
    "The universe of stocks can truly baffle investors who wish to make the best selection of stocks for their portfolios. It is a daunting task to make a prudent selection of stocks, given the vastness of the choices and the diverse behavioural characteristics of each of these stocks with respect to itself and to one another\n",
    "\n",
    "**Portfolio Return and Risk:**\n",
    "Harry Markowtiz proposed a framework known as Mean-Variance Analysis which won him the 1990 Nobel Prize in Economics. The framework laid the foundation for what is known as the Modern Portfolio Theory, that views the *portfolio return* as the capital gain that can be expected by holding a portfolio and *portfolio risk* as the extent of capital losses that it can suffer possibly due to adverse market movements. Portfolio return and risk were modelled using the mean and variance of the portfolio's fluctuations respectively.\n",
    "\n",
    "**Diversification Index:**\n",
    "A Diversification Index quantifies diversification. There are several diversification indices discussed in the literature. Diversification Ratio proposed and patented by Yves Choueifaty in 2008 [CHO 08, CHO 13], is a diversification index of recent origin, built on the inter-dependence between assets of a portfolio. Diversification Ratio is the ratio of the weighted sum of individual asset volatilities to the portfolio's volatility.\n",
    "\n",
    "**Efficient Frontier:** An efficient frontier is a set of investment portfolios that are expected to provide the highest returns at a given level of risk. A portfolio is said to be efficient if there is no other portfolio that offers higher returns for a lower or equal amount of risk. Where portfolios are located on the efficient frontier depends on the investor’s degree of risk tolerance.\n",
    "\n",
    "**Sharpe Ratio:** The Sharpe ratio was developed by Nobel laureate William F. Sharpe and is used to help investors understand the return of an investment compared to its risk. The ratio is the average return earned in excess of the risk-free rate per unit of volatility or total risk. Volatility is a measure of the price fluctuations of an asset or portfolio."
   ]
  },
  {
   "cell_type": "markdown",
   "metadata": {
    "id": "uMWem-M0qD9A"
   },
   "source": [
    "## Objectives:\n",
    "\n",
    "* How can the investor decide on which combination of assets is the best?\n",
    "* How can diversification be ensured, when the assets belong to different sectors and therefore behave differently under varying market conditions?\n",
    "* How would an investor determine the optimal weights, which will ensure maximum return risk for the portfolio invested in ?\n",
    "* How would an investor know how much to invest in each one of the assets in the portfolio ?"
   ]
  },
  {
   "cell_type": "markdown",
   "metadata": {
    "id": "ndQNKsjS7c04"
   },
   "source": [
    "## Grading = 10 Points"
   ]
  },
  {
   "cell_type": "code",
   "execution_count": 1,
   "metadata": {
    "cellView": "form",
    "id": "octTr7Dz4_rH"
   },
   "outputs": [],
   "source": [
    "#@title Download the dataset\n",
    "!wget -qq https://cdn.iisc.talentsprint.com/CDS/MiniProjects/DJIA_Apr112014_Apr112019.csv"
   ]
  },
  {
   "cell_type": "markdown",
   "metadata": {
    "id": "YRIzMfgjwcAp"
   },
   "source": [
    "### Import required Packages "
   ]
  },
  {
   "cell_type": "code",
   "execution_count": 2,
   "metadata": {
    "id": "uSfeKXD4UbLp"
   },
   "outputs": [],
   "source": [
    "import numpy as np\n",
    "import pandas as pd\n",
    "import datetime\n",
    "import matplotlib.pyplot as plt\n",
    "import seaborn as sns\n",
    "from sklearn.cluster import KMeans "
   ]
  },
  {
   "cell_type": "markdown",
   "metadata": {
    "id": "ySJn1hVNtgCc"
   },
   "source": [
    "### Data Preparation (1 point)"
   ]
  },
  {
   "cell_type": "code",
   "execution_count": null,
   "metadata": {
    "id": "eiMf96D75q6G"
   },
   "outputs": [],
   "source": [
    "#input stock dataset\n",
    "StockFileName = '/content/DJIA_Apr112014_Apr112019.csv'\n",
    "\n",
    "# YOUR CODE HERE"
   ]
  },
  {
   "cell_type": "markdown",
   "metadata": {
    "id": "pG3eFpjW-TeW"
   },
   "source": [
    "#### Data Summarization\n",
    "\n",
    "* Remove Date column and summarize the data"
   ]
  },
  {
   "cell_type": "code",
   "execution_count": null,
   "metadata": {
    "id": "07XeEuDWbJ62"
   },
   "outputs": [],
   "source": [
    "# YOUR CODE HERE"
   ]
  },
  {
   "cell_type": "markdown",
   "metadata": {
    "id": "3ZTictp3-qNM"
   },
   "source": [
    "#### Compute the stock returns\n",
    "\n",
    "* Compute the mean of returns and covariance of returns"
   ]
  },
  {
   "cell_type": "code",
   "execution_count": null,
   "metadata": {
    "id": "aDqTaY0V6mJk"
   },
   "outputs": [],
   "source": [
    "# YOUR CODE HERE"
   ]
  },
  {
   "cell_type": "markdown",
   "metadata": {
    "id": "f_E1QZYmStF7"
   },
   "source": [
    "### Portfolio Return and Portfolio Risk ( 2 points)\n",
    "\n",
    "* Apply equal weighted portfolio construction method to portfolio\n",
    "* Obtain the annualized risk (%) and the expected annual return (%) of the portfolio"
   ]
  },
  {
   "cell_type": "markdown",
   "metadata": {
    "id": "tvYoynSOAb6K"
   },
   "source": [
    "\n",
    "\n",
    "Let P be a portfolio comprising assets $A_1, A_2,...A_N$ with weights $W_1, W_2,...W_N$ and $r_1, r_2, ...r_N$ as the asset returns. The portfolio return r determined by a weighted summation of its individual asset returns is given by,\n",
    " $$r = W_1 . r_1 + W_2 . r_2 + .. W_N . r_N = \\sum_{i=1}^N W_i . r_i $$\n",
    "\n",
    "The annualized portfolio return assuming that the number of trading days in a year were $T_y$ ( for example, 261 out of 365 days in a year), is given by,\n",
    "\n",
    "$$r_{Ann} = \\Bigg( \\sum_{i=1}^N W_i . r_i \\Bigg) . T_y$$\n",
    "\n",
    "Portfolio risk is the standard deviation of its returns and is given by,\n",
    "\n",
    "$$ \\sigma = \\sqrt{\\sum_i \\sum_j W_i . W_j . \\sigma_{ij}^2}$$\n",
    "\n",
    "\n",
    "where $\\sigma_{ij}$ is the covariance of returns between assets i and j of the portfolio, also referred to as the variance-covariance matrix of returns. Standard deviation is a prominent measure of dispersion of data borrowed from Statistics and describes the deviation or spread of the data from its mean. In the case of portfolios, standard deviation of its returns, which is its risk, helps to measure the consistency of the returns. The annualized portfolio risk in percentage,  $\\sigma_{Ann}$ is given by,\n",
    "\n",
    "$$ \\sigma_{Ann} = \\sqrt{ \\Bigg(\\sum_i \\sum_j W_i . W_j . \\sigma_{ij}^2 \\Bigg) . T_y}$$\n",
    "\n",
    "where $T_y$ is the number of trading days in a year.\n",
    "\n"
   ]
  },
  {
   "cell_type": "code",
   "execution_count": null,
   "metadata": {
    "id": "M0CKAqyXvknD"
   },
   "outputs": [],
   "source": [
    "# YOUR CODE HERE"
   ]
  },
  {
   "cell_type": "markdown",
   "metadata": {
    "id": "i33qYBoy9AdT"
   },
   "source": [
    "### Cluster the Assets using K-Means (2 points)\n",
    "\n",
    "* Prepare the data for K-Means by concatenating mean returns and covariance returns\n",
    "\n",
    "* Find the suitable k parameter and fit the model\n",
    "\n",
    "* Label the nearest assets in clusters"
   ]
  },
  {
   "cell_type": "code",
   "execution_count": null,
   "metadata": {
    "id": "PqTbiHYNpMoA"
   },
   "outputs": [],
   "source": [
    "\"\"\" prepare the data for k means clustering \"\"\"\n",
    "# YOUR CODE HERE"
   ]
  },
  {
   "cell_type": "code",
   "execution_count": null,
   "metadata": {
    "id": "4rn1Ej8-pTe6"
   },
   "outputs": [],
   "source": [
    "\"\"\" kmeans clustering of assets using the characteristic vector of mean return and variance-covariance vector of returns \"\"\" \n",
    "# YOUR CODE HERE"
   ]
  },
  {
   "cell_type": "code",
   "execution_count": null,
   "metadata": {
    "id": "ry2F8mKvpmcL"
   },
   "outputs": [],
   "source": [
    "\"\"\" fix asset labels to cluster points \"\"\"\n",
    "# YOUR CODE HERE"
   ]
  },
  {
   "cell_type": "markdown",
   "metadata": {
    "id": "K5krQfoW_4ih"
   },
   "source": [
    "### Diversification Index (1 point)\n",
    "\n",
    "* Compute the Diversification Ratio of the Equal Weighted Portfolio\n",
    "\n",
    "Let N be the number of assets in the portfolio spanning different asset classes or belonging to a specific class. Let $(\\bar{w}=(w_1,w_2,...w_N) )$ be the weights or the proportion of capital to be invested in individual assets in the portfolio and $\\bar{w}'$ its transpose. Let $(\\bar{\\sigma}=(\\sigma_1,\\sigma_2,...\\sigma_N))$ be the standard deviations of returns on the assets and V, the variance-covariance matrix of returns on the assets. The Diversification Ratio of a portfolio is given as follows:\n",
    "\n",
    "$$ \\Bigg( \\frac{\\bar\\sigma . \\bar w'}{\\sqrt{\\bar w . V . \\bar w'}}\\Bigg)$$\n",
    "\n"
   ]
  },
  {
   "cell_type": "code",
   "execution_count": null,
   "metadata": {
    "id": "BaoYAlkg1v0F"
   },
   "outputs": [],
   "source": [
    "# YOUR CODE HERE"
   ]
  },
  {
   "cell_type": "markdown",
   "metadata": {
    "id": "3mpuCXI__uhQ"
   },
   "source": [
    "### Inverse Volatility Weighted Portfolio (1 point)\n",
    "\n",
    "* Apply inverse volatility weighted portfolio construction method for the DJIA portfolio\n",
    "* Compute Inverse volatility weighted portfolio annual risk\n",
    "* Compute Inverse volatility weighted portfolio annual return\n",
    "* Compute the Diversification Ratio of the Inverse Volatility Weighted Portfolio\n",
    "\n",
    "An inverse volatility weighted portfolio is one in which highly volatile assets are allotted smaller weights and low volatile assets are allotted larger weights. Thus, the weights of the individual assets in the portfolio are proportional to the reciprocals of their individual volatilities.\n",
    "The weights are given by,\n",
    "\n",
    "$$W_i = \\frac{\\frac{1}{\\sigma_i}}{\\sum_j \\frac{1}{\\sigma_j}} $$"
   ]
  },
  {
   "cell_type": "code",
   "execution_count": null,
   "metadata": {
    "id": "DpErUCIc_UJw"
   },
   "outputs": [],
   "source": [
    "\"\"\" Inverse volatility weighted portfolio construction: Annualized risk and Expected annualized portfolio return \"\"\"\n",
    "# YOUR CODE HERE"
   ]
  },
  {
   "cell_type": "code",
   "execution_count": null,
   "metadata": {
    "id": "ZIXlkOGO_dbq"
   },
   "outputs": [],
   "source": [
    "\"\"\" Inverse volatility weighted portfolio: Diversification Ratio\"\"\"\n",
    "# YOUR CODE HERE"
   ]
  },
  {
   "cell_type": "markdown",
   "metadata": {
    "id": "2oY0tOS1D4FR"
   },
   "source": [
    "### Efficient Frontier (2 points)\n",
    "**Optimize the portfolio weights:**\n",
    "\n",
    "* Initialize the random weights for each portfolio\n",
    "* Calculate return, volatility for each portfolio\n",
    "\n",
    "\n",
    "The efficient set obtained by the Mean-Variance Optimization model can be graphically represented by what is called an efficient frontier. An efficient frontier is a risk-return tradeoff graph, which describes a set of optimal portfolios that yield the highest expected portfolio return for a defined level of risk or the lowest possible risk for a defined level of expected portfolio return. It graphs the optimal structure of the portfolio which yields the maximum expected return for a given level of risk or vice-versa.\n"
   ]
  },
  {
   "cell_type": "code",
   "execution_count": null,
   "metadata": {
    "id": "IbdB4oK7e_ZS"
   },
   "outputs": [],
   "source": [
    "# YOUR CODE HERE"
   ]
  },
  {
   "cell_type": "markdown",
   "metadata": {
    "id": "eDHAkaLlHRCb"
   },
   "source": [
    "#### Visualize Efficient Frontier\n",
    "\n",
    "* Visualize the volatility and returns of 1000 portfolios\n",
    "* Find the minimum variance portfolio and plot the weights of assets"
   ]
  },
  {
   "cell_type": "code",
   "execution_count": null,
   "metadata": {
    "id": "zHbEgjjUiCP_"
   },
   "outputs": [],
   "source": [
    "# YOUR CODE HERE"
   ]
  },
  {
   "cell_type": "markdown",
   "metadata": {
    "id": "AdSGhyBrlUd7"
   },
   "source": [
    "### Sharpe Ratio (1 point)\n",
    "\n",
    "* Calculate Sharpe Ratio for the assets\n",
    "\n",
    "Sharpe Ratio, developed by Nobel Laureate William F Sharpe, is a measure of calculating risk adjusted return. It serves to help investors know about the returns on their investments relative to the risks they hold. The Sharpe Ratio is defined as\n",
    "\n",
    "$$Sharpe Ratio = \\frac{R_P - R_f}{\\sigma_p} $$\n",
    "\n",
    "where:\n",
    "\n",
    "$R_p$ = return of portfolio\n",
    "\n",
    "$R_f$ = risk-free rate\n",
    "\n",
    "$\\sigma_p$ = standard deviation of the portfolio’s excess return\n",
    "​\t\n",
    "\n",
    "**Note:** The risk-free rate of return is the return of an investment with zero risks, meaning it's the return investors could expect for taking no risk.\n",
    "\n"
   ]
  },
  {
   "cell_type": "code",
   "execution_count": null,
   "metadata": {
    "id": "L0s44a7Ejs3T"
   },
   "outputs": [],
   "source": [
    "# Risk-free return\n",
    "rf = 0.0006\n",
    "# YOUR CODE HERE"
   ]
  },
  {
   "cell_type": "markdown",
   "metadata": {
    "id": "ey5dO0vIkVqh"
   },
   "source": [
    "#### Plot the portfolio\n",
    "\n",
    "* Find and plot the optimal portfolio using Sharpe Ratio\n",
    "* Highlight the minimum risk and maximum return of the portfolio"
   ]
  },
  {
   "cell_type": "code",
   "execution_count": null,
   "metadata": {
    "id": "O5ieRc5lj_I-"
   },
   "outputs": [],
   "source": [
    "# YOUR CODE HERE"
   ]
  },
  {
   "cell_type": "markdown",
   "metadata": {
    "id": "wHWhOMDK3ooC"
   },
   "source": [
    "### Report Analysis\n",
    "\n",
    "* Try with a subset of assets and comment on diversification ratio\n",
    "\n",
    "* Comment on the portfolio that consists of assets with highest return (irrespective of risk)\n",
    "\n",
    "* Discuss the optimized portfolio and weights of the assets\n",
    "\n",
    "* Based on K-Means clusters, find the subset of assets which is exhibiting greater sharpe ratio\n"
   ]
  }
 ],
 "metadata": {
  "anaconda-cloud": {},
  "colab": {
   "collapsed_sections": [],
   "name": "M6_NB_MiniProject_5_Finance_Portfolio.ipynb",
   "provenance": []
  },
  "coursera": {
   "course_slug": "machine-learning-in-finance"
  },
  "kernelspec": {
   "display_name": "Python 3 (ipykernel)",
   "language": "python",
   "name": "python3"
  },
  "language_info": {
   "codemirror_mode": {
    "name": "ipython",
    "version": 3
   },
   "file_extension": ".py",
   "mimetype": "text/x-python",
   "name": "python",
   "nbconvert_exporter": "python",
   "pygments_lexer": "ipython3",
   "version": "3.10.6"
  }
 },
 "nbformat": 4,
 "nbformat_minor": 4
}
