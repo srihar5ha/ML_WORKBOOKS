{
 "cells": [
  {
   "cell_type": "markdown",
   "metadata": {
    "id": "WFBl3DsqB3AE"
   },
   "source": [
    "\n",
    "### Mini Project Notebook: Customer Churn Analysis"
   ]
  },
  {
   "cell_type": "markdown",
   "metadata": {
    "id": "maritime-miami"
   },
   "source": [
    "## Learning Objectives"
   ]
  },
  {
   "cell_type": "markdown",
   "metadata": {
    "id": "95F1ym6qB8VU"
   },
   "source": [
    "At the end of the experiment, you will be able to :\n",
    "\n",
    "* find users that are going to churn in future\n",
    "* find what factors drive users to churn\n",
    "* perform EDA on the given churn data and prepare data for prediction task.\n",
    "* apply various machine learning algorithms and analyse the results\n"
   ]
  },
  {
   "cell_type": "markdown",
   "metadata": {
    "id": "P8aczZmzvXTc"
   },
   "source": [
    "## Information\n",
    "\n",
    "**Churn Analysis**\n",
    "\n",
    "Customer churn analysis refers to the customer attrition rate in a company. This analysis helps identify the cause of the churn and implement effective strategies for retention.\n",
    "\n",
    "\n",
    "Customer Churn is used to describe subscribers to a service who decide to discontinue their service for a certain time frame. Churn prediction consists of detecting which customers are likely to cancel a subscription to a service based on how they use the service.\n",
    "\n",
    "Businesses often have to invest substantial amounts attracting new clients, so every time a client leaves it represents a significant investment lost. Both time and effort then need to be channelled into replacing them. Being able to predict when a client is likely to leave and offer them incentives to stay can offer huge savings to a business."
   ]
  },
  {
   "cell_type": "markdown",
   "metadata": {
    "id": "kgx1PkHfCDyJ"
   },
   "source": [
    "## Dataset\n",
    "\n",
    "The dataset chosen for this task is customer churn dataset representing the trips of the users and drivers rating along with luxury cars used. Every row represents a separate customer. The data has a total of 50,000 customers.\n",
    "\n",
    "variables\tdescription\n",
    "* **city:**\tcity this user signed up in\n",
    "* **phone:**\tprimary device for this user\n",
    "* **signup_date:**\tdate of account registration; in the form `YYYYMMDD`\n",
    "* **last_trip_date:**\tthe last time this user completed a trip; in the form `YYYYMMDD`\n",
    "* **avg_dist:**\tthe average distance (in miles) per trip taken in the first 30 days after signup\n",
    "* **avg_rating_by_driver:**\tthe rider’s average rating over all of their trips\n",
    "* **avg_rating_of_driver:**\tthe rider’s average rating of their drivers over all of their trips\n",
    "* **surge_pct:**\tthe percent of trips taken with surge multiplier > 1\n",
    "* **avg_surge:**\tThe average surge multiplier over all of this user’s trips\n",
    "* **trips_in_first_30_days:**\tthe number of trips this user took in the first 30 days after signing up\n",
    "* **luxury_car_user:**\tTRUE if the user took a luxury car in their first 30 days; FALSE otherwise\n",
    "* **weekday_pct:**\tthe percent of the user’s trips occurring during a weekday\n",
    "\n"
   ]
  },
  {
   "cell_type": "markdown",
   "metadata": {
    "id": "ih-oasWmdZul"
   },
   "source": [
    "## Problem Statement"
   ]
  },
  {
   "cell_type": "markdown",
   "metadata": {
    "id": "-18cjyCTCHE-"
   },
   "source": [
    "Analyse and preprocess the data and build a machine learning model to  predict Customer Churn."
   ]
  },
  {
   "cell_type": "markdown",
   "metadata": {
    "id": "operating-latter"
   },
   "source": [
    "## Grading = 10 Points"
   ]
  },
  {
   "cell_type": "code",
   "execution_count": 1,
   "metadata": {
    "cellView": "form",
    "id": "kX5ljpgMqkxh"
   },
   "outputs": [
    {
     "name": "stdout",
     "output_type": "stream",
     "text": [
      "Dataset downloaded successfully!!\n"
     ]
    }
   ],
   "source": [
    "#@title Download Dataset\n",
    "!wget -qq https://cdn.iisc.talentsprint.com/CDS/MiniProjects/churn.csv\n",
    "print(\"Dataset downloaded successfully!!\")"
   ]
  },
  {
   "cell_type": "markdown",
   "metadata": {
    "id": "YRIzMfgjwcAp"
   },
   "source": [
    "### Import required Packages "
   ]
  },
  {
   "cell_type": "code",
   "execution_count": null,
   "metadata": {
    "id": "c1dLQpyQEasG"
   },
   "outputs": [],
   "source": [
    "import pandas as pd\n",
    "import numpy as np\n",
    "import seaborn as sns\n",
    "import matplotlib.pyplot as plt\n",
    "from sklearn.model_selection import train_test_split\n",
    "from sklearn.linear_model import LogisticRegression\n",
    "from sklearn.metrics import classification_report\n",
    "from sklearn.model_selection import GridSearchCV\n",
    "from sklearn.model_selection import RandomizedSearchCV\n",
    "from sklearn import metrics\n",
    "from sklearn.tree import DecisionTreeClassifier\n",
    "from sklearn.decomposition import PCA\n",
    "from sklearn.model_selection import cross_val_score\n",
    "from sklearn.preprocessing import StandardScaler\n",
    "from sklearn.ensemble import RandomForestClassifier\n",
    "from sklearn import ensemble\n",
    "from xgboost import XGBClassifier\n",
    "import warnings\n",
    "warnings.simplefilter('ignore')"
   ]
  },
  {
   "cell_type": "markdown",
   "metadata": {
    "id": "XZeNVp8bEasM"
   },
   "source": [
    "### Load the data and summarize (1 point)"
   ]
  },
  {
   "cell_type": "code",
   "execution_count": null,
   "metadata": {
    "id": "DgpRk3T3blHj"
   },
   "outputs": [],
   "source": [
    "# reading the .csv file\n",
    "path = \"/content/churn.csv\"\n",
    "# YOUR CODE HERE"
   ]
  },
  {
   "cell_type": "markdown",
   "metadata": {
    "id": "H6HXuSG6wBjr"
   },
   "source": [
    "#### Summarize the data\n",
    "* Explore the datatypes of each column\n",
    "* Identify the numerical, categorical and date columns and convert to appropriate data types if required\n",
    "* Identify the columns with missing values and handle them appropriately"
   ]
  },
  {
   "cell_type": "code",
   "execution_count": null,
   "metadata": {
    "id": "jJCRUgISBLUO"
   },
   "outputs": [],
   "source": [
    "# YOUR CODE HERE"
   ]
  },
  {
   "cell_type": "markdown",
   "metadata": {
    "id": "dCvdgPkuBmUY"
   },
   "source": [
    "#### Breakdown by months\n",
    "\n",
    "* Using the `last_trip_date` get the data for each month "
   ]
  },
  {
   "cell_type": "code",
   "execution_count": null,
   "metadata": {
    "id": "ruKr7VslCF7Z"
   },
   "outputs": [],
   "source": [
    "# YOUR CODE HERE"
   ]
  },
  {
   "cell_type": "markdown",
   "metadata": {
    "id": "Yhh6W2DOCQ0_"
   },
   "source": [
    "### Data Preparation (Target variable - Churn) ( 2 points)\n",
    "\n",
    "Clearly, users who have used the app in June and July, are customers who are still loyal to the company. However, customers who last used the app before June (in May or before) have gone by without using the app for a considerable time. Lets mark them as inactive (or users who have churned).\n",
    "\n",
    "**Note:** Any user whose last trip with the company was before 1st June, 2014 is considered to be \"churned\". "
   ]
  },
  {
   "cell_type": "code",
   "execution_count": null,
   "metadata": {
    "id": "o140hAXaCN6x"
   },
   "outputs": [],
   "source": [
    "# YOUR CODE HERE"
   ]
  },
  {
   "cell_type": "markdown",
   "metadata": {
    "id": "_bgGQwYQCcVr"
   },
   "source": [
    "#### Handle the Duplicates\n",
    "\n",
    "Although, we dont have a unique customer ID for each customer, having all values similar looks highly unlikely for 2 customers. Find such rows in the data (customer having the same city, same phone, same signup_date, same last_trip_date looks highly unlikely) and drop.\n",
    "\n",
    "Hint: `drop_duplicates()`\n"
   ]
  },
  {
   "cell_type": "code",
   "execution_count": null,
   "metadata": {
    "id": "63W02YayCXVk"
   },
   "outputs": [],
   "source": [
    "# YOUR CODE HERE"
   ]
  },
  {
   "cell_type": "markdown",
   "metadata": {
    "id": "g2islBuvzhaU"
   },
   "source": [
    "#### Separate columns by data types\n",
    "\n",
    "* Identify and separate the columns based on their data type \n",
    "\n",
    "  eg. categorical, continuous, date"
   ]
  },
  {
   "cell_type": "code",
   "execution_count": null,
   "metadata": {
    "id": "lYRKXy2VDHPw"
   },
   "outputs": [],
   "source": [
    "# YOUR CODE HERE"
   ]
  },
  {
   "cell_type": "markdown",
   "metadata": {
    "id": "AX6AXyKXDl4k"
   },
   "source": [
    "#### Handle the null values\n",
    "\n",
    "* Identify and handle the null values and provide the justification"
   ]
  },
  {
   "cell_type": "code",
   "execution_count": null,
   "metadata": {
    "id": "uBGD4KA4Dus5"
   },
   "outputs": [],
   "source": [
    "# YOUR CODE HERE"
   ]
  },
  {
   "cell_type": "markdown",
   "metadata": {
    "id": "opy3i2DFF5SB"
   },
   "source": [
    "#### Outliers Detection\n",
    "\n",
    "* Investigate outliers for every variable\n",
    "-Accordingly identify the variables suitable to use for modelling"
   ]
  },
  {
   "cell_type": "code",
   "execution_count": null,
   "metadata": {
    "id": "jZnaIdALuItC"
   },
   "outputs": [],
   "source": [
    "# YOUR CODE HERE"
   ]
  },
  {
   "cell_type": "markdown",
   "metadata": {
    "id": "SX9-RNFKve9T"
   },
   "source": [
    "### Data Exploration & Analysis (1 point)\n",
    "\n",
    "  - Derive exploratory insights\n",
    "    - trends\n",
    "    - anomalies\n",
    "    - interesting observations"
   ]
  },
  {
   "cell_type": "code",
   "execution_count": null,
   "metadata": {
    "id": "gU-mEkaQFDO8"
   },
   "outputs": [],
   "source": [
    "# YOUR CODE HERE"
   ]
  },
  {
   "cell_type": "markdown",
   "metadata": {
    "id": "bpOGxSADEzUx"
   },
   "source": [
    "#### Univariate Analysis\n",
    "\n",
    "* Analyze each variable individually with appropriate plot"
   ]
  },
  {
   "cell_type": "code",
   "execution_count": null,
   "metadata": {
    "id": "H7iy8hrgEt38"
   },
   "outputs": [],
   "source": [
    "# YOUR CODE HERE"
   ]
  },
  {
   "cell_type": "markdown",
   "metadata": {
    "id": "s_NEsH0NFVum"
   },
   "source": [
    "#### Categorical variables"
   ]
  },
  {
   "cell_type": "code",
   "execution_count": null,
   "metadata": {
    "id": "5SAeHoZSE-QU"
   },
   "outputs": [],
   "source": [
    "# YOUR CODE HERE"
   ]
  },
  {
   "cell_type": "markdown",
   "metadata": {
    "id": "o69uNO_WFoRb"
   },
   "source": [
    "#### Numerical Variables"
   ]
  },
  {
   "cell_type": "code",
   "execution_count": null,
   "metadata": {
    "id": "WxgRLsx4FuAo"
   },
   "outputs": [],
   "source": [
    "# YOUR CODE HERE"
   ]
  },
  {
   "cell_type": "markdown",
   "metadata": {
    "id": "WFIOA-3ZG2zK"
   },
   "source": [
    "#### Multivariate Analysis\n",
    "\n",
    "* Identify relationships between variables with appropriate plot \n",
    "\n"
   ]
  },
  {
   "cell_type": "code",
   "execution_count": null,
   "metadata": {
    "id": "eXwb1S-dEq6q"
   },
   "outputs": [],
   "source": [
    "# YOUR CODE HERE"
   ]
  },
  {
   "cell_type": "markdown",
   "metadata": {
    "id": "-uEJ0273HhFr"
   },
   "source": [
    "### Feature Engineering (1 point)\n",
    "\n",
    "* Create a feature to count the instances of surge pricing for android vs non-android users\n",
    "* Create a variable based on ratings indicating user is good/bad,  by grouping the average ratings of customers\n",
    "*  Create a variable to identify 3 groups of population by grouping the `weekday_pct`\n",
    "   - those  who dont ride during week\n",
    "   - those who ride only during week\n",
    "   - others\n",
    "   \n",
    "  "
   ]
  },
  {
   "cell_type": "code",
   "execution_count": null,
   "metadata": {
    "id": "JpyY27j5IGU7"
   },
   "outputs": [],
   "source": [
    "# YOUR CODE HERE"
   ]
  },
  {
   "cell_type": "markdown",
   "metadata": {
    "id": "i9UU_zLYHDK-"
   },
   "source": [
    "### Data Preprocessing (1 point)"
   ]
  },
  {
   "cell_type": "markdown",
   "metadata": {
    "id": "5R38EYxiIoUQ"
   },
   "source": [
    "#### Plot the correlation heatmap and analyze\n",
    "\n",
    "- Identify and drop the highly correlated features"
   ]
  },
  {
   "cell_type": "code",
   "execution_count": null,
   "metadata": {
    "id": "fuiC5vc8Ii4E"
   },
   "outputs": [],
   "source": [
    "# YOUR CODE HERE"
   ]
  },
  {
   "cell_type": "markdown",
   "metadata": {
    "id": "903jVml6JTp4"
   },
   "source": [
    "#### Scale the features"
   ]
  },
  {
   "cell_type": "code",
   "execution_count": null,
   "metadata": {
    "id": "uy0inRWrJKxY"
   },
   "outputs": [],
   "source": [
    "# YOUR CODE HERE"
   ]
  },
  {
   "cell_type": "markdown",
   "metadata": {
    "id": "TK3leAgbJeas"
   },
   "source": [
    "#### PCA Analysis\n",
    "\n",
    "* Apply PCA and analyze the variables with explained variance ratio"
   ]
  },
  {
   "cell_type": "code",
   "execution_count": null,
   "metadata": {
    "id": "xeOXXyIJJVxC"
   },
   "outputs": [],
   "source": [
    "# YOUR CODE HERE"
   ]
  },
  {
   "cell_type": "markdown",
   "metadata": {
    "id": "lz12xHlgKQuP"
   },
   "source": [
    "### Predict churn/no churn using Machine Learning models (3 points)\n",
    "\n",
    "\n",
    "* Apply suitable ML models on the data and evaluate the models\n",
    "* Improve the performance of the models\n",
    "\n"
   ]
  },
  {
   "cell_type": "markdown",
   "metadata": {
    "id": "m9w66l_Ny3If"
   },
   "source": [
    "#### Build, fit and evaluate ML models\n",
    "\n",
    "- Any ML classifiers can be used. Compare with atleast 4 different models\n",
    "- Since, the target is to identify churning customers correctly, focus more on getting True Positive correct (High TPR). We could ignore False Positive errors (Customers we predicted will churn, but do not!) as they are not that important.\n",
    "\n",
    "* Also, minimize the False Negative error (Customers we predicted will not churn, but they did churn!). In this case, we might lose these customers due to the error.\n",
    "\n",
    "**main target would be to - MAXIMIZE TRUE POSITIVES and MINIMIZE FALSE NEGATIVE ERRORS!**\n",
    "\n",
    "**Metrics:** Plot the ROC-AUC curve and confusion Matrix for all the models.\n"
   ]
  },
  {
   "cell_type": "code",
   "execution_count": null,
   "metadata": {
    "id": "s1hslg3F1yIP"
   },
   "outputs": [],
   "source": [
    "# YOUR CODE HERE"
   ]
  },
  {
   "cell_type": "markdown",
   "metadata": {
    "id": "ZsKXbtWFL4s3"
   },
   "source": [
    "#### Model Optimization: tuning hyperparameters\n",
    "\n",
    "Short-list all the best working models, and tune their hyperparameters and see whether we can improve the performance even further.\n",
    "\n",
    "There are two ways to select optimal hyperparameters:\n",
    "\n",
    "1. Grid Search\n",
    "2. Random Search"
   ]
  },
  {
   "cell_type": "code",
   "execution_count": null,
   "metadata": {
    "id": "7GpTb5WJMLCI"
   },
   "outputs": [],
   "source": [
    "# YOUR CODE HERE"
   ]
  },
  {
   "cell_type": "markdown",
   "metadata": {
    "id": "XMy4cP42Mlit"
   },
   "source": [
    "### Factors driving customers to churn (1 point)\n",
    "\n",
    "* Find the factors from the data which are causing customers to churn\n",
    "\n",
    "* Plot the features with a bar plot\n",
    "\n",
    "Hint: `model.feature_importances_`"
   ]
  },
  {
   "cell_type": "code",
   "execution_count": null,
   "metadata": {
    "id": "EwzbUy4nMjZW"
   },
   "outputs": [],
   "source": [
    "# YOUR CODE HERE"
   ]
  },
  {
   "cell_type": "markdown",
   "metadata": {
    "id": "BzwMz-vmHBQH"
   },
   "source": [
    "### Report Analysis\n",
    "\n",
    "* Find the city which is experiencing a higher churn rate than average. \n",
    "\n",
    "* Which app users (Android/IOS) are unhappy / churning and why ?\n",
    "\n",
    "* Derive an insight on the luxury cars and customers churned.\n",
    "\n",
    "* Discuss the overall factors causing the customer churn and reasons for poor ratings."
   ]
  }
 ],
 "metadata": {
  "accelerator": "GPU",
  "colab": {
   "collapsed_sections": [],
   "name": "M6_NB_MiniProject_5_Customer_Churn_Analysis.ipynb",
   "provenance": []
  },
  "kernelspec": {
   "display_name": "Python 3 (ipykernel)",
   "language": "python",
   "name": "python3"
  },
  "language_info": {
   "codemirror_mode": {
    "name": "ipython",
    "version": 3
   },
   "file_extension": ".py",
   "mimetype": "text/x-python",
   "name": "python",
   "nbconvert_exporter": "python",
   "pygments_lexer": "ipython3",
   "version": "3.10.6"
  }
 },
 "nbformat": 4,
 "nbformat_minor": 4
}
