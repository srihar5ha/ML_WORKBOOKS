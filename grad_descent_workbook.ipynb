{
 "cells": [
  {
   "cell_type": "code",
   "execution_count": 108,
   "id": "5815707e-3179-4ff9-ab1f-29afe6623462",
   "metadata": {},
   "outputs": [],
   "source": [
    "#grad descent step wise without fixing on either m or b\n",
    "\n",
    "# forgot to scale the data. scaling will effect time taken to reach the optimal solution"
   ]
  },
  {
   "cell_type": "code",
   "execution_count": 103,
   "id": "8cd1f858-7041-4453-a186-e75994c3e76c",
   "metadata": {},
   "outputs": [],
   "source": [
    "from sklearn.datasets import make_regression\n",
    "from sklearn.linear_model import LinearRegression\n",
    "import numpy as np\n",
    "import pandas as pd\n",
    "import matplotlib.pyplot as plt\n",
    "from sklearn.metrics import r2_score,accuracy_score\n",
    "from sklearn.model_selection import train_test_split,cross_val_score"
   ]
  },
  {
   "cell_type": "code",
   "execution_count": 104,
   "id": "ed715146-ce5f-4c60-94cf-07666b112829",
   "metadata": {},
   "outputs": [],
   "source": [
    "x,y=make_regression(n_samples=100,n_features=1,n_targets=1,noise=10,random_state=5)\n",
    "\n",
    "x_train,x_test,y_train,y_test=train_test_split(x,y,test_size=0.3,random_state=0)"
   ]
  },
  {
   "cell_type": "code",
   "execution_count": 105,
   "id": "44f324cb-b58c-402f-a3cd-767f881535b8",
   "metadata": {},
   "outputs": [
    {
     "name": "stdout",
     "output_type": "stream",
     "text": [
      "[58.14591762]\n",
      "2.1536537205026156\n",
      "0.9688920870823682\n",
      "0.8441662163777017\n"
     ]
    }
   ],
   "source": [
    "lr=LinearRegression()\n",
    "lr.fit(x_train,y_train)\n",
    "y_pred_lr=lr.predict(x_test)\n",
    "\n",
    "#print((y_test))\n",
    "print(lr.coef_)#m\n",
    "\n",
    "print(lr.intercept_)#b\n",
    "\n",
    "print(r2_score(y_test,y_pred_lr))\n",
    "print(np.mean(cross_val_score(lr,x_test,y_test,scoring='r2',cv=10)))\n",
    "\n",
    "#print(accuracy_score(y_train,y_train))\n",
    "#one cannot use accuracy score for regression problems. it can be \n",
    "#use only for classification problems"
   ]
  },
  {
   "cell_type": "code",
   "execution_count": 106,
   "id": "0b1120ed-a7a2-40b3-9d54-5fda3ac91625",
   "metadata": {},
   "outputs": [],
   "source": [
    "class my_GD():\n",
    "    def __init__(self,learning_rate,epochs):\n",
    "        self.m=100\n",
    "        self.b=50\n",
    "        self.learning_rate=learning_rate\n",
    "        self.epochs=epochs\n",
    "   \n",
    "    \n",
    "    def fit(self,x,y):\n",
    "        for i in range(self.epochs):\n",
    "            loss_slope_b= -2 * np.sum( y- self.m*x.ravel() - self.b)\n",
    "            loss_slope_m= -2 * np.sum(( y- self.m*x.ravel() - self.b) * x.ravel())\n",
    "            self.b = self.b - loss_slope_b * self.learning_rate\n",
    "            self.m = self.m - loss_slope_m * self.learning_rate\n",
    "            \n",
    "        print(self.m,self.b)\n",
    "    \n",
    "    \n",
    "    def predict(self,x):\n",
    "        y_pred= self.m *x + self.b\n",
    "        return y_pred"
   ]
  },
  {
   "cell_type": "code",
   "execution_count": 107,
   "id": "e4a0f6c7-fa24-44f0-9726-a478e17e8f73",
   "metadata": {},
   "outputs": [
    {
     "name": "stdout",
     "output_type": "stream",
     "text": [
      "58.14591762403431 2.153653720502618\n",
      "0.9688920870823682\n"
     ]
    }
   ],
   "source": [
    "gd=my_GD(0.01,100)\n",
    "gd.fit(x_train,y_train)\n",
    "print(r2_score(y_test,gd.predict(x_test)))\n",
    "#print(np.mean(cross_val_score(gd,x_test,y_test,scoring='r2',cv=10)))\n",
    "\n"
   ]
  },
  {
   "cell_type": "code",
   "execution_count": null,
   "id": "619675eb-30fa-4a3f-931c-35fa09968594",
   "metadata": {},
   "outputs": [],
   "source": []
  }
 ],
 "metadata": {
  "kernelspec": {
   "display_name": "Python 3 (ipykernel)",
   "language": "python",
   "name": "python3"
  },
  "language_info": {
   "codemirror_mode": {
    "name": "ipython",
    "version": 3
   },
   "file_extension": ".py",
   "mimetype": "text/x-python",
   "name": "python",
   "nbconvert_exporter": "python",
   "pygments_lexer": "ipython3",
   "version": "3.10.6"
  }
 },
 "nbformat": 4,
 "nbformat_minor": 5
}
