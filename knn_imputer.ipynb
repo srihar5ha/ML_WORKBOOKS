{
 "cells": [
  {
   "cell_type": "code",
   "execution_count": 1,
   "id": "d2064253-7d17-46b8-b99e-3861174022f3",
   "metadata": {},
   "outputs": [],
   "source": [
    "#knn imputer"
   ]
  },
  {
   "cell_type": "code",
   "execution_count": null,
   "id": "166da3a6-9bba-4f3d-b65b-d9d61f07cbeb",
   "metadata": {},
   "outputs": [],
   "source": []
  }
 ],
 "metadata": {
  "kernelspec": {
   "display_name": "Python 3 (ipykernel)",
   "language": "python",
   "name": "python3"
  },
  "language_info": {
   "codemirror_mode": {
    "name": "ipython",
    "version": 3
   },
   "file_extension": ".py",
   "mimetype": "text/x-python",
   "name": "python",
   "nbconvert_exporter": "python",
   "pygments_lexer": "ipython3",
   "version": "3.10.6"
  }
 },
 "nbformat": 4,
 "nbformat_minor": 5
}
